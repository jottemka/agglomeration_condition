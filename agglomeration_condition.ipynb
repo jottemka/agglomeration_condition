{
 "cells": [
  {
   "cell_type": "markdown",
   "metadata": {},
   "source": [
    "# A New Condition for Agglomeration in Bayesian Confirmation\n",
    "\n",
    "This notebook corresponds to the following paper:\n",
    "\n",
    "- https://www.cambridge.org/core/journals/philosophy-of-science/article/new-condition-for-agglomeration-in-bayesian-confirmation/BF3906892462EEE562594F1F2713C119\n",
    "\n",
    "## Importing Packages and Setup"
   ]
  },
  {
   "cell_type": "code",
   "execution_count": 1,
   "metadata": {},
   "outputs": [],
   "source": [
    "import numpy as np\n",
    "import pandas as pd\n",
    "import polars as pl\n",
    "from scipy import stats\n",
    "from itertools import chain, combinations\n",
    "from IPython.display import Math, display\n",
    "import warnings\n",
    "warnings.filterwarnings(\"ignore\", category=DeprecationWarning) "
   ]
  },
  {
   "cell_type": "markdown",
   "metadata": {},
   "source": [
    "## Defining Functions for Powerset and Probabilities"
   ]
  },
  {
   "cell_type": "code",
   "execution_count": 2,
   "metadata": {},
   "outputs": [],
   "source": [
    "# Powerset function (without the empty set)\n",
    "def powerset(s):\n",
    "    return chain.from_iterable(combinations(s, r) for r in range(1,len(s)+1))\n",
    "\n",
    "# Function that calculates all marginal and joint probabilities for a set of probability distributions, given as matrix\n",
    "def probabilities(matrix):\n",
    "\n",
    "    # Size of matrix, number of random variables\n",
    "    length, width = matrix.shape\n",
    "    num_variables = np.log2(width).astype(int)\n",
    "    \n",
    "    # Create matrix with all Boolean combinations\n",
    "    binmat = np.array([np.fromstring(np.binary_repr(i,num_variables), dtype=np.uint8)==49 for i in range(0,width)])\n",
    "\n",
    "    # Pick all probabilities from matrix\n",
    "    result = [pd.Series(np.sum(np.all(binmat[:,i],axis=1)*matrix,axis = 1), name = f\"P{i}\") for i in powerset(range(num_variables))]\n",
    "\n",
    "    return pl.DataFrame(result)"
   ]
  },
  {
   "cell_type": "markdown",
   "metadata": {},
   "source": [
    "## Generating probability functions"
   ]
  },
  {
   "cell_type": "code",
   "execution_count": 3,
   "metadata": {},
   "outputs": [],
   "source": [
    "# Number of variables and distributions\n",
    "number_variables = 3\n",
    "number_distributions = 10000000\n",
    "\n",
    "# Sampling from Dirichlet distribution, calculating relevant probabilities\n",
    "matrix = pl.DataFrame(np.random.dirichlet(np.ones(2**number_variables), number_distributions))\n",
    "df = probabilities(matrix)"
   ]
  },
  {
   "cell_type": "markdown",
   "metadata": {},
   "source": [
    "## Results"
   ]
  },
  {
   "cell_type": "code",
   "execution_count": 4,
   "metadata": {},
   "outputs": [
    {
     "data": {
      "text/html": [
       "<style type=\"text/css\">\n",
       "</style>\n",
       "<table id=\"T_e31ce\">\n",
       "  <thead>\n",
       "    <tr>\n",
       "      <th id=\"T_e31ce_level0_col0\" class=\"col_heading level0 col0\" >Effect</th>\n",
       "      <th id=\"T_e31ce_level0_col1\" class=\"col_heading level0 col1\" >Conjunctive Prevalence</th>\n",
       "      <th id=\"T_e31ce_level0_col2\" class=\"col_heading level0 col2\" >Conditional Prevalence</th>\n",
       "    </tr>\n",
       "  </thead>\n",
       "  <tbody>\n",
       "    <tr>\n",
       "      <td id=\"T_e31ce_row0_col0\" class=\"data row0 col0\" >NOR-confirmation Effect</td>\n",
       "      <td id=\"T_e31ce_row0_col1\" class=\"data row0 col1\" >0.024999</td>\n",
       "      <td id=\"T_e31ce_row0_col2\" class=\"data row0 col2\" >0.100013</td>\n",
       "    </tr>\n",
       "    <tr>\n",
       "      <td id=\"T_e31ce_row1_col0\" class=\"data row1 col0\" >Simpson's Paradox</td>\n",
       "      <td id=\"T_e31ce_row1_col1\" class=\"data row1 col1\" >0.008344</td>\n",
       "      <td id=\"T_e31ce_row1_col2\" class=\"data row1 col2\" >0.033371</td>\n",
       "    </tr>\n",
       "  </tbody>\n",
       "</table>\n"
      ],
      "text/plain": [
       "<pandas.io.formats.style.Styler at 0x7812449489b0>"
      ]
     },
     "execution_count": 4,
     "metadata": {},
     "output_type": "execute_result"
    }
   ],
   "source": [
    "# Conjuncts are confirmed (condition 1)\n",
    "conjuncts_confirmation = (df[\"P(0, 1)\"] > df[\"P(0,)\"]*df[\"P(1,)\"]) & (df[\"P(0, 2)\"] > df[\"P(0,)\"]*df[\"P(2,)\"])\n",
    "conjuncts_confirmation_mean = conjuncts_confirmation.mean()\n",
    "\n",
    "# Conjunction is confirmed (condition 2)\n",
    "conjunction_confirmation = (df[\"P(0, 1, 2)\"] > df[\"P(0,)\"]*df[\"P(1, 2)\"])\n",
    "conjunction_confirmation_mean = conjunction_confirmation.mean()\n",
    "\n",
    "# NOR-confirmation is satisfied (condition 3)\n",
    "nor_confirmation = df[\"P(0, 1)\"] + df[\"P(0, 2)\"] - df[\"P(0, 1, 2)\"] < df[\"P(0,)\"] * (df[\"P(1,)\"] + df[\"P(2,)\"] - df[\"P(1, 2)\"] )\n",
    "nor_confirmation_mean = nor_confirmation.mean()\n",
    "\n",
    "# NOR-Effect\n",
    "nor_effect = (conjuncts_confirmation & nor_confirmation)\n",
    "nor_effect_conjunctive_prevalence = nor_effect.mean()\n",
    "nor_effect_conditional_prevalence = nor_effect_conjunctive_prevalence/conjuncts_confirmation_mean\n",
    "\n",
    "# Simpson's Paradox\n",
    "simpson_one = (df[\"P(0, 1, 2)\"] > df[\"P(1, 2)\"] * df[\"P(0, 2)\"]/df[\"P(2,)\"])\n",
    "simpson_two = (df[\"P(0, 1)\"] - df[\"P(0, 1, 2)\"] > (df[\"P(1,)\"] - df[\"P(1, 2)\"]) * (df[\"P(0,)\"] - df[\"P(0, 2)\"])/(1-df[\"P(2,)\"])  )\n",
    "simpson_three = (df[\"P(0, 1)\"] <= df[\"P(0,)\"]*df[\"P(1,)\"])\n",
    "simpson_paradox_conjunctive = (simpson_one & simpson_two & simpson_three).mean()\n",
    "\n",
    "simpson_antecedent_mean = (simpson_one & simpson_two).mean()\n",
    "simpson_paradox_conditional = simpson_paradox_conjunctive / simpson_antecedent_mean\n",
    "\n",
    "# Collecting results\n",
    "results = pd.DataFrame([\n",
    "    [nor_effect_conjunctive_prevalence, nor_effect_conditional_prevalence],\n",
    "    [simpson_paradox_conjunctive, simpson_paradox_conditional],\n",
    "]).rename(columns={0: \"Conjunctive Prevalence\", 1: \"Conditional Prevalence\"})\n",
    "\n",
    "effects = pd.DataFrame([\n",
    "['NOR-confirmation Effect'],\n",
    "[\"Simpson's Paradox\"],\n",
    "]).rename(columns={0: \"Effect\"})\n",
    "\n",
    "pd.concat([effects,results],axis=1).style.hide()"
   ]
  }
 ],
 "metadata": {
  "kernelspec": {
   "display_name": ".venv",
   "language": "python",
   "name": "python3"
  },
  "language_info": {
   "codemirror_mode": {
    "name": "ipython",
    "version": 3
   },
   "file_extension": ".py",
   "mimetype": "text/x-python",
   "name": "python",
   "nbconvert_exporter": "python",
   "pygments_lexer": "ipython3",
   "version": "3.12.3"
  }
 },
 "nbformat": 4,
 "nbformat_minor": 2
}
